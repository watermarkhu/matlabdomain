{
 "cells": [
  {
   "cell_type": "code",
   "execution_count": 3,
   "metadata": {},
   "outputs": [],
   "source": [
    "import re\n",
    "import os\n",
    "from pathlib import Path"
   ]
  },
  {
   "cell_type": "code",
   "execution_count": 17,
   "metadata": {},
   "outputs": [],
   "source": [
    "mat_ext_sig_re = re.compile(\n",
    "    r'''^((?:[^/]*/)*)?        # Path\n",
    "        ((?:[@+]\\w+\\.)*)       # Namespace\n",
    "        (\\w+)                  # Filename\n",
    "        (?:\\((.*)\\))?$         # Arguments\n",
    "        ''', re.VERBOSE)\n",
    "\n",
    "mat_re_namespace = re.compile(\n",
    "    r'([@+]\\w+)\\.', re.VERBOSE  # Namespace list\n",
    ")\n",
    "\n",
    "mat_prop_re = re.compile(\n",
    "    r'''^\n",
    "    (\\w+)                       # argument\n",
    "    (?:\\s*\\(([\\s\\d,\\:]+)\\))?      # size\n",
    "    (?:\\s*(\\w+))?               # argument class\n",
    "    (?:\\s*\\{([\\s\\w,]+)\\})?      # validators\n",
    "    (?:\\s*\\=\\s*(\\w+))?          # default value\n",
    "    ''', re.VERBOSE\n",
    ")\n",
    "\n",
    "def parse_autodoc_input(prompt:str, matlab_root_dir:str, src_path:str):\n",
    "\n",
    "    (path, namespacePath, filename, arguments) = mat_ext_sig_re.match(prompt).groups()\n",
    "    namespace = mat_re_namespace.findall(namespacePath)\n",
    "\n",
    "    basepath = Path(matlab_root_dir if matlab_root_dir else src_path)\n",
    "    abspath = (basepath / Path(path or '.')).resolve()\n",
    "    filepath = (abspath / '/'.join(namespace)).resolve()\n",
    "\n",
    "    return (filepath, filename, arguments, abspath, namespace)\n",
    "\n",
    "def parse_property(prop_str:str):\n",
    "    (arg, size, arg_class, validators, default) = mat_prop_re.match(prop_str).groups()\n",
    "    if size:\n",
    "        size = [dim.strip() for dim in size.split(',')]\n",
    "    if validators:\n",
    "        validators = [validator.strip() for validator in validators.split(',')]\n",
    "    return (arg, size, arg_class, validators, default)\n"
   ]
  },
  {
   "cell_type": "code",
   "execution_count": 24,
   "metadata": {},
   "outputs": [
    {
     "data": {
      "text/plain": [
       "('arg2', ['1', ':'], 'logical', ['MustBeReal'], 'True')"
      ]
     },
     "execution_count": 24,
     "metadata": {},
     "output_type": "execute_result"
    }
   ],
   "source": [
    "parse_property('arg2 (1,:) logical {MustBeReal} = True')"
   ]
  },
  {
   "cell_type": "code",
   "execution_count": 25,
   "metadata": {},
   "outputs": [
    {
     "data": {
      "text/plain": [
       "(WindowsPath('C:/@package/+main'),\n",
       " 'test',\n",
       " 'arg1, arg2',\n",
       " WindowsPath('C:/'),\n",
       " ['@package', '+main'])"
      ]
     },
     "execution_count": 25,
     "metadata": {},
     "output_type": "execute_result"
    }
   ],
   "source": [
    "arg = '../@package.+main.test(arg1, arg2)'\n",
    "matlab_root_dir = 'C:/Users'\n",
    "src_path = os.getcwd()\n",
    "\n",
    "parse_autodoc_input(arg, matlab_root_dir, src_path)"
   ]
  }
 ],
 "metadata": {
  "kernelspec": {
   "display_name": "sphinx-docs-dev",
   "language": "python",
   "name": "python3"
  },
  "language_info": {
   "codemirror_mode": {
    "name": "ipython",
    "version": 3
   },
   "file_extension": ".py",
   "mimetype": "text/x-python",
   "name": "python",
   "nbconvert_exporter": "python",
   "pygments_lexer": "ipython3",
   "version": "3.8.15"
  },
  "orig_nbformat": 4,
  "vscode": {
   "interpreter": {
    "hash": "bbb87505693f0933035f3e1705ade3590ca0d6c1cfc6982f2a59a29c97b6501a"
   }
  }
 },
 "nbformat": 4,
 "nbformat_minor": 2
}
