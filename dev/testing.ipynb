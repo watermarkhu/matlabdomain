{
 "cells": [
  {
   "cell_type": "code",
   "execution_count": 2,
   "metadata": {},
   "outputs": [],
   "source": [
    "import re\n",
    "import os\n",
    "from pathlib import Path"
   ]
  },
  {
   "cell_type": "code",
   "execution_count": 118,
   "metadata": {},
   "outputs": [],
   "source": [
    "mat_properties_re = re.compile(\n",
    "    r'''^\n",
    "    (\\w+)                               # argument\n",
    "    (?:[ \\t]*\\(([\\s\\d,\\:]+)\\))?         # size\n",
    "    (?:[ \\t]*(\\w+))?                    # argument class\n",
    "    (?:[ \\t]*\\{(.+)\\})?                 # validators\n",
    "    (?:[ \\t]*\\=[ \\t]*\n",
    "        (\\w+(?:\\([\\w\\s\\{\\}\\@'\",]*\\))?)  # value / function and optional arguments\n",
    "    )?                                  \n",
    "    (?:\\s+\\#+[ \\t]*(.*))?               # Comment\n",
    "    $''', re.VERBOSE\n",
    ")\n",
    "\n",
    "mat_validators_re_pat = re.compile(\n",
    "    r'''\n",
    "    [ \\t]*\n",
    "        (\\w+(?:\\([\\w\\s\\{\\}\\@'\",]*\\))?)\n",
    "    [ \\t]*,?\n",
    "    ''', re.VERBOSE\n",
    ")\n",
    "\n",
    "def parse_property(prompt:str):\n",
    "    (arg, size, arg_class, validators, default, comment) = mat_properties_re.match(prompt.strip()).groups()\n",
    "    if size:\n",
    "        size = [dim.strip() for dim in size.split(',')]\n",
    "    validator_list = mat_validators_re_pat.findall(validators) if validators else None\n",
    "    return (arg, size, arg_class, validator_list, default, comment)\n",
    "\n",
    "parse_property(\"arg2 (1,:) double {mustBeImData(Data), mustBeInRange(Data,0,255), mustBeMember(Interp,{'linear','cubic','spline'})} = uint8(0)  #This is\")"
   ]
  },
  {
   "cell_type": "code",
   "execution_count": 4,
   "metadata": {},
   "outputs": [
    {
     "data": {
      "text/plain": [
       "(WindowsPath('C:/@package/+main'),\n",
       " 'test',\n",
       " WindowsPath('C:/'),\n",
       " ['@package', '+main'])"
      ]
     },
     "execution_count": 4,
     "metadata": {},
     "output_type": "execute_result"
    }
   ],
   "source": [
    "mat_ext_sig_re = re.compile(\n",
    "    r'''^((?:[^/]*/)*)?                 # Path\n",
    "        ((?:[@+]\\w+\\.)*)                # Namespace\n",
    "        (\\w+)                           # Function name\n",
    "        $''', re.VERBOSE\n",
    ")\n",
    "\n",
    "mat_namespace_re_pat = re.compile(\n",
    "    r'([@+]\\w+)\\.',                     # Namespace list\n",
    "    re.VERBOSE        \n",
    ")\n",
    "\n",
    "def parse_autodoc_input(prompt:str, src_path:str):\n",
    "\n",
    "    (path, namespacePath, filename) = mat_ext_sig_re.match(prompt.strip()).groups()\n",
    "    namespace = mat_namespace_re_pat.findall(namespacePath)\n",
    "\n",
    "    basepath = Path(src_path)\n",
    "    abspath = (basepath / Path(path or '.')).resolve()\n",
    "    filepath = (abspath / '/'.join(namespace)).resolve()\n",
    "\n",
    "    return (filepath, filename, abspath, namespace)\n",
    "\n",
    "arg = '../@package.+main.test'\n",
    "src_path = 'C:/Users'\n",
    "\n",
    "parse_autodoc_input(arg, src_path)"
   ]
  }
 ],
 "metadata": {
  "kernelspec": {
   "display_name": "sphinx_matlabdomain",
   "language": "python",
   "name": "python3"
  },
  "language_info": {
   "codemirror_mode": {
    "name": "ipython",
    "version": 3
   },
   "file_extension": ".py",
   "mimetype": "text/x-python",
   "name": "python",
   "nbconvert_exporter": "python",
   "pygments_lexer": "ipython3",
   "version": "3.8.16"
  },
  "orig_nbformat": 4,
  "vscode": {
   "interpreter": {
    "hash": "b6130d0d162008ac26298353a9cc507a6a7099ac01197abd5635fc04e85d37ee"
   }
  }
 },
 "nbformat": 4,
 "nbformat_minor": 2
}
