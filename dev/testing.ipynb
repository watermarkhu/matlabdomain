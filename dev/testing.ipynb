{
 "cells": [
  {
   "cell_type": "code",
   "execution_count": 35,
   "metadata": {},
   "outputs": [],
   "source": [
    "import re\n",
    "import os\n",
    "from pathlib import Path"
   ]
  },
  {
   "cell_type": "code",
   "execution_count": 41,
   "metadata": {},
   "outputs": [],
   "source": [
    "mat_re = re.compile(\n",
    "    r'''^((?:[^/]*/)*)?         # Path\n",
    "        ((?:[@+]\\w+\\.)*)       # Namespace\n",
    "        (\\w+)(?:\\.\\w+)?$       # Filename\n",
    "        ''', re.VERBOSE)\n",
    "\n",
    "mat_re_namespace = re.compile(\n",
    "    r'([@+]\\w+)\\.', re.VERBOSE  # Namespace list\n",
    ")\n",
    "\n",
    "def parse_autodoc_input(arg:str, matlab_root_dir:str, src_path:str):\n",
    "\n",
    "    (path, namespacePath, filename) = mat_re.match(arg).groups()\n",
    "    namespace = mat_re_namespace.findall(namespacePath)\n",
    "\n",
    "    basepath = Path(matlab_root_dir if matlab_root_dir else src_path)\n",
    "    abspath = (basepath / Path(path or '.')).resolve()\n",
    "    filepath = (abspath / '/'.join(namespace)).resolve()\n",
    "\n",
    "    return (filepath, filename, abspath, namespace)\n"
   ]
  },
  {
   "cell_type": "code",
   "execution_count": 45,
   "metadata": {},
   "outputs": [
    {
     "data": {
      "text/plain": [
       "(WindowsPath('C:/@package/+main'),\n",
       " 'test',\n",
       " WindowsPath('C:/'),\n",
       " ['@package', '+main'])"
      ]
     },
     "execution_count": 45,
     "metadata": {},
     "output_type": "execute_result"
    }
   ],
   "source": [
    "arg = '../@package.+main.test.m'\n",
    "matlab_root_dir = 'C:/Users'\n",
    "src_path = os.getcwd()\n",
    "\n",
    "parse_autodoc_input(arg, matlab_root_dir, src_path)"
   ]
  },
  {
   "cell_type": "code",
   "execution_count": null,
   "metadata": {},
   "outputs": [],
   "source": []
  }
 ],
 "metadata": {
  "kernelspec": {
   "display_name": "sphinx-docs-dev",
   "language": "python",
   "name": "python3"
  },
  "language_info": {
   "codemirror_mode": {
    "name": "ipython",
    "version": 3
   },
   "file_extension": ".py",
   "mimetype": "text/x-python",
   "name": "python",
   "nbconvert_exporter": "python",
   "pygments_lexer": "ipython3",
   "version": "3.8.15"
  },
  "orig_nbformat": 4,
  "vscode": {
   "interpreter": {
    "hash": "bbb87505693f0933035f3e1705ade3590ca0d6c1cfc6982f2a59a29c97b6501a"
   }
  }
 },
 "nbformat": 4,
 "nbformat_minor": 2
}
